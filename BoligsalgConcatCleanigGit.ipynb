{
 "cells": [
  {
   "cell_type": "markdown",
   "id": "b9d169f9-689c-45e1-abe8-29b6a9c7fbab",
   "metadata": {},
   "source": [
    "# 0. Importing libraries, mergning raw files, exporting merged \"master file\" and reading it in for cleaning\n"
   ]
  },
  {
   "cell_type": "code",
   "execution_count": null,
   "id": "4c6b13e2-63e5-4247-8ed0-e740fa99aa8f",
   "metadata": {},
   "outputs": [],
   "source": [
    "import pandas as pd\n",
    "import numpy as np\n",
    "import matplotlib as plt\n",
    "import seaborn as sns\n",
    "import pyarrow.parquet as pq\n",
    "import os\n",
    "import glob\n",
    "from pathlib import Path"
   ]
  },
  {
   "cell_type": "code",
   "execution_count": null,
   "id": "0db317dc-f051-4b66-9019-93225c204f2f",
   "metadata": {},
   "outputs": [],
   "source": [
    "# glob = specific folder\n",
    "# rglob = including subfolder\n",
    "\n",
    "input_dir = Path(r'C:\\Users\\ insert your path')\n",
    "files = list(input_dir.glob(\"*.csv*\"))\n",
    "len(files)"
   ]
  },
  {
   "cell_type": "code",
   "execution_count": null,
   "id": "943bb338-ed37-439b-b7e3-f88a1ea0ac9d",
   "metadata": {},
   "outputs": [],
   "source": [
    "# Store all dataframes in a list\n",
    "\n",
    "parts = []\n",
    "for path in list(input_dir.glob(\"*.csv*\")):\n",
    "    part = pd.read_csv(path)\n",
    "    parts.append(part)"
   ]
  },
  {
   "cell_type": "code",
   "execution_count": null,
   "id": "9207c77b-c744-4bd8-8dc9-b104c29f41ac",
   "metadata": {},
   "outputs": [],
   "source": [
    "masterfile = pd.concat(parts)\n",
    "\n",
    "# Save merged dataframe to outpit directory\n",
    "\n",
    "masterfile.to_csv(r'C:\\Users\\ insert your path \\ DKMasterSale.csv', index=False)"
   ]
  },
  {
   "cell_type": "code",
   "execution_count": null,
   "id": "0612ff72-648e-4c59-820d-5d5b35955b16",
   "metadata": {},
   "outputs": [],
   "source": []
  },
  {
   "cell_type": "code",
   "execution_count": null,
   "id": "7774ebd5-84d3-45c8-a5cf-20284b97fb6a",
   "metadata": {},
   "outputs": [],
   "source": [
    "# importing masterfile as df\n",
    "\n",
    "df = pd.read_csv(r'C:\\Users\\ insert your path \\DKMasterSale.csv', low_memory=False)"
   ]
  },
  {
   "cell_type": "code",
   "execution_count": null,
   "id": "47cdf334-fa2c-4eb6-8f29-4b5a93e44a93",
   "metadata": {},
   "outputs": [],
   "source": [
    "df.info()\n",
    "\n",
    "# as seen memory usage is large. we'll work on that during the cleaning and finetuning"
   ]
  },
  {
   "cell_type": "markdown",
   "id": "8f754d5e-8f67-48b1-8062-9ff061b9c2b4",
   "metadata": {},
   "source": [
    "# 1. Investigating data"
   ]
  },
  {
   "cell_type": "code",
   "execution_count": null,
   "id": "127d06ca-d7fa-41ff-b672-7f7612ac5158",
   "metadata": {},
   "outputs": [],
   "source": [
    "# we'll have a look at the df to get a sense of the data\n",
    "\n",
    "df.head(3)"
   ]
  },
  {
   "cell_type": "code",
   "execution_count": null,
   "id": "d0d391c7-ad3f-44e9-9cd7-52a1823bd55d",
   "metadata": {},
   "outputs": [],
   "source": [
    "# checking shape\n",
    "\n",
    "df.shape"
   ]
  },
  {
   "cell_type": "code",
   "execution_count": null,
   "id": "d1a2cf42-ee9b-4e42-b7fc-73157d11d32e",
   "metadata": {},
   "outputs": [],
   "source": [
    "# checking duplicates (will revert on this later)\n",
    "\n",
    "df[df.duplicated(['Boligtype & Adresse'], keep=False)]"
   ]
  },
  {
   "cell_type": "code",
   "execution_count": null,
   "id": "851ceaf9-7ba4-4ece-b569-a5f7f13c5916",
   "metadata": {},
   "outputs": [],
   "source": [
    "# checking dtypes()\n",
    "\n",
    "df.dtypes"
   ]
  },
  {
   "cell_type": "code",
   "execution_count": null,
   "id": "522a24b5-154c-463c-aa67-063f279e4561",
   "metadata": {},
   "outputs": [],
   "source": [
    "# checking for na's\n",
    "\n",
    "df.isnull().sum()\n",
    "\n",
    "# as seen we have quite a few na's due to \"double\" columns"
   ]
  },
  {
   "cell_type": "code",
   "execution_count": null,
   "id": "fd97e43d-9960-45b9-a875-1b034e28b7ee",
   "metadata": {},
   "outputs": [],
   "source": [
    "# creating 4 new columns by combining \"double\" columns\n",
    "\n",
    "df['purchase_price'] = df['KÃ¸besum'].combine_first(df['Købesum'])\n",
    "df['sqm'] = df['mÂ² & Kr. / mÂ²'].combine_first(df['m² & Kr. / m²'])\n",
    "df['no_rooms'] = df['VÃ¦r.'].combine_first(df['Vær.'])\n",
    "df['year_build'] = df['ByggeÃ¥r'].combine_first(df['Byggeår'])"
   ]
  },
  {
   "cell_type": "code",
   "execution_count": null,
   "id": "70912ea4-80cd-4a99-9b97-9dddfb0ad71e",
   "metadata": {},
   "outputs": [],
   "source": [
    "# dropping 8 columns as we have created the new 4 columns. dropping \"Unnamed: 7\" as well as it does not have any numerical value we can use\n",
    "\n",
    "df = df.drop(['KÃ¸besum', 'Købesum', 'mÂ² & Kr. / mÂ²', 'm² & Kr. / m²', 'VÃ¦r.', 'Vær.', 'ByggeÃ¥r', 'Byggeår', 'Unnamed: 7'], axis=1)"
   ]
  },
  {
   "cell_type": "code",
   "execution_count": null,
   "id": "50c9ba9a-43af-472b-938e-9bf2a475e192",
   "metadata": {},
   "outputs": [],
   "source": [
    "# renaming columns (Danish to English)\n",
    "\n",
    "df.rename(columns = {\"Boligtype & Adresse\" : \"type_and_address\" , \n",
    "                      'Dato & Type' : 'date_and_sales_type' ,                    \n",
    "                      \"Den procentuelle forskel mellem seneste udbudspris og salgsprisen %\" : \"%_change_between_offer_and_purchase\"}, inplace=True)"
   ]
  },
  {
   "cell_type": "code",
   "execution_count": null,
   "id": "f346cdd9-22ea-4bef-afe9-b96e5d6770e1",
   "metadata": {},
   "outputs": [],
   "source": [
    "# checking df\n",
    "\n",
    "df.head(3)"
   ]
  },
  {
   "cell_type": "code",
   "execution_count": null,
   "id": "d6880065-7af1-4a9f-be7a-84f69a143f81",
   "metadata": {},
   "outputs": [],
   "source": [
    "# # checking for na's again. there's only nans in \"%_change_between_offer_and_purchase\". we'll get back to that\n",
    "\n",
    "df.isnull().sum()"
   ]
  },
  {
   "cell_type": "markdown",
   "id": "0c9ec95b-f2d6-4d23-8881-412813288c0a",
   "metadata": {},
   "source": [
    "# 2. Split data and cleaning colums (date_and_sales_type column)"
   ]
  },
  {
   "cell_type": "code",
   "execution_count": null,
   "id": "6a3336f2-9a79-47b5-9e54-61cd4cf06489",
   "metadata": {},
   "outputs": [],
   "source": [
    "# we'll start by creating a seperate date column\n",
    "\n",
    "df[\"date\"] = df[\"date_and_sales_type\"].str[0:10]"
   ]
  },
  {
   "cell_type": "code",
   "execution_count": null,
   "id": "21f69fb1-1df5-4c9b-8495-f052eb5dc410",
   "metadata": {},
   "outputs": [],
   "source": [
    "# convert dtype of new \"date\" column from object to datetime\n",
    "\n",
    "df[\"date\"] = pd.to_datetime(df[\"date\"], dayfirst=False)"
   ]
  },
  {
   "cell_type": "code",
   "execution_count": null,
   "id": "33bdefd5-0a25-42fb-b4c2-775335421408",
   "metadata": {},
   "outputs": [],
   "source": [
    "# we'll create a seperate sales_type column\n",
    "\n",
    "df[\"sales_type\"] = df[\"date_and_sales_type\"].str[10:]"
   ]
  },
  {
   "cell_type": "code",
   "execution_count": null,
   "id": "803d77d4-d944-4e24-9abd-ec52301fb5c3",
   "metadata": {},
   "outputs": [],
   "source": [
    "# checking unique string types in \"sales_type\"\n",
    "\n",
    "df[\"sales_type\"].unique()"
   ]
  },
  {
   "cell_type": "code",
   "execution_count": null,
   "id": "ee2c89a6-b4fe-434b-b47d-8a371c4e8186",
   "metadata": {},
   "outputs": [],
   "source": [
    "# converting unique string types in \"sales_type\" from Danish to English\n",
    "\n",
    "df[\"sales_type\"] = df[\"sales_type\"].str.replace(\"Alm. Salg\" , \"regular_sale\")\n",
    "df[\"sales_type\"] = df[\"sales_type\"].str.replace(\"Fam. Salg\" , \"family_sale\")\n",
    "df[\"sales_type\"] = df[\"sales_type\"].str.replace(\"Andet\" , \"other_sale\")\n",
    "df[\"sales_type\"] = df[\"sales_type\"].str.replace(\"Auktion\" , \"auction\")"
   ]
  },
  {
   "cell_type": "code",
   "execution_count": null,
   "id": "e12316b6-b6dc-415f-b248-7ea6bd6c53a9",
   "metadata": {},
   "outputs": [],
   "source": [
    "# check convert unique string types in \"sales_type\"\n",
    "\n",
    "df[\"sales_type\"].unique()"
   ]
  },
  {
   "cell_type": "code",
   "execution_count": null,
   "id": "18663341-c530-4be2-b84e-cdd15e1b5497",
   "metadata": {},
   "outputs": [],
   "source": [
    "# changing dtype of \"sales_type\" column from object to category to reduce memory usage\n",
    "\n",
    "df[\"sales_type\"] = df[\"sales_type\"].astype(\"category\")"
   ]
  },
  {
   "cell_type": "code",
   "execution_count": null,
   "id": "91bbd978-6316-4d41-b55b-8b24bb91b4e1",
   "metadata": {},
   "outputs": [],
   "source": [
    "# show number of different sale_types\n",
    "\n",
    "df[\"sales_type\"].value_counts()"
   ]
  },
  {
   "cell_type": "code",
   "execution_count": null,
   "id": "c6a501ce-9484-4264-80a2-8f65aa3138cc",
   "metadata": {},
   "outputs": [],
   "source": [
    "# dropping \"date_and_sales_type\" column as we have created the 2 new columns\n",
    "\n",
    "df = df.drop(\"date_and_sales_type\", axis=1)\n",
    "\n",
    "# we are done with the orginal \"date_and_sales_type\" and we now have two seperate columns"
   ]
  },
  {
   "cell_type": "markdown",
   "id": "a5b06cf2-0e24-43b9-ae94-64cb25172e56",
   "metadata": {},
   "source": [
    "# 3. Split data and cleaning colums (purchase_price column)"
   ]
  },
  {
   "cell_type": "code",
   "execution_count": null,
   "id": "70c6f8a5-8e6d-45b5-bd6f-d1a788817c3e",
   "metadata": {},
   "outputs": [],
   "source": [
    "# deleting \".kr\" and \".\" in column purchase_price as we want to convert the column to a numeric column\n",
    "\n",
    "df[\"purchase_price\"] = df[\"purchase_price\"].str.replace(\"kr.\" , \"\")\n",
    "df[\"purchase_price\"] = df[\"purchase_price\"].str.replace(\".\" , \"\")\n",
    "df[\"purchase_price\"] = df[\"purchase_price\"].str.strip()   # strips white space"
   ]
  },
  {
   "cell_type": "code",
   "execution_count": null,
   "id": "1ebed106-5433-4675-a576-8fa7f6eed7ac",
   "metadata": {},
   "outputs": [],
   "source": [
    "# converting to numeric and setting int to int32 to save memory\n",
    "\n",
    "df[\"purchase_price\"] = pd.to_numeric(df[\"purchase_price\"].astype(np.int32))\n",
    "\n",
    "# we are done with the \"purchase_price\" column"
   ]
  },
  {
   "cell_type": "code",
   "execution_count": null,
   "id": "196f20bd-a991-41f8-a33c-ba223c88123b",
   "metadata": {},
   "outputs": [],
   "source": [
    "df[\"purchase_price\"]"
   ]
  },
  {
   "cell_type": "code",
   "execution_count": null,
   "id": "d1b18750-1ffb-4bf1-8ef4-7b9f276a656a",
   "metadata": {},
   "outputs": [],
   "source": [
    "# checking for outlines in purchase_price\n",
    "\n",
    "df[\"purchase_price\"].plot(kind=\"box\")\n",
    "\n",
    "# as seen we have a some extreme purchase_prices"
   ]
  },
  {
   "cell_type": "code",
   "execution_count": null,
   "id": "1d802196-d158-4b69-af2e-7f8e78d167d0",
   "metadata": {},
   "outputs": [],
   "source": [
    "# checking purchase_price greater than DKK 50,000,000 as these most likely are incorrect\n",
    "\n",
    "df[df[\"purchase_price\"] > 50_000_000]"
   ]
  },
  {
   "cell_type": "code",
   "execution_count": null,
   "id": "dc80bdcc-3fc3-4711-a079-b5ff8d9b1415",
   "metadata": {},
   "outputs": [],
   "source": [
    "# dropping rows where purchase_price is greater than 50,000,000\n",
    "\n",
    "df = df.drop(df[df[\"purchase_price\"] > 50_000_000].index)"
   ]
  },
  {
   "cell_type": "code",
   "execution_count": null,
   "id": "54951e29-e908-4d61-b3d5-25942b72a63a",
   "metadata": {},
   "outputs": [],
   "source": [
    "# checking purchase_price less than DKK 250,000 as these most likely are incorrect\n",
    "\n",
    "df[df[\"purchase_price\"] < 250_000]"
   ]
  },
  {
   "cell_type": "code",
   "execution_count": null,
   "id": "a09cd142-70c7-4762-a086-af0938eb0b73",
   "metadata": {},
   "outputs": [],
   "source": [
    "# dropping rows where purchase_price is less than DKK 250,000\n",
    "\n",
    "df = df.drop(df[df[\"purchase_price\"] <= 250_000].index)"
   ]
  },
  {
   "cell_type": "code",
   "execution_count": null,
   "id": "b27a398c-b8ec-4e31-985f-43f11d8a7335",
   "metadata": {},
   "outputs": [],
   "source": [
    "# checking na's\n",
    "\n",
    "df[\"purchase_price\"].isnull().sum()"
   ]
  },
  {
   "cell_type": "code",
   "execution_count": null,
   "id": "3e0b9ac1-9ae1-4a58-a28f-93c03482941b",
   "metadata": {},
   "outputs": [],
   "source": [
    "# checking distribution of purchase_price using defined bins\n",
    "\n",
    "df[\"purchase_price\"].value_counts(bins=[0, 250000, 500000, 1000000, 1500000, 2000000, 2500000, 3000000, 3500000, 4000000, 4500000, 5000000, 7500000, 10000000, 20000000, 50000000, 75000000], sort=False)\n",
    "\n",
    "# and we are done with this column"
   ]
  },
  {
   "cell_type": "code",
   "execution_count": null,
   "id": "db1e8dff-b2f2-4682-91d5-3512c600ef86",
   "metadata": {
    "scrolled": true
   },
   "outputs": [],
   "source": [
    "# checking df\n",
    "\n",
    "df.head(3)"
   ]
  },
  {
   "cell_type": "markdown",
   "id": "8f66dcb4-1df0-4fe6-9682-4ef10ea4e982",
   "metadata": {},
   "source": [
    "# 4. Split data and cleaning colums (sqm column)"
   ]
  },
  {
   "cell_type": "code",
   "execution_count": null,
   "id": "14a64992-baff-47eb-96fc-c8b61768888e",
   "metadata": {},
   "outputs": [],
   "source": [
    "# select string from left to right and deleting unwanted text\n",
    "\n",
    "df[\"sqm\"] = df[\"sqm\"].str[0:7]\n",
    "df[\"sqm\"] = df[\"sqm\"].str.replace(\" mÂ²\" , \"\")\n",
    "df[\"sqm\"] = df[\"sqm\"].str.replace(\"m²\" , \"\")\n",
    "df[\"sqm\"] = df[\"sqm\"].str.replace(\"mÂ\" , \"\")\n",
    "df[\"sqm\"] = df[\"sqm\"].str.replace(\"0k\" , \"\")\n",
    "df[\"sqm\"] = df[\"sqm\"].str.replace(\" \" , \"\") # removes white inside\n",
    "df[\"sqm\"] = df[\"sqm\"].str.strip()   # strips white space outside "
   ]
  },
  {
   "cell_type": "code",
   "execution_count": null,
   "id": "26e75434-eaca-4a7b-9ba7-66ef8ff4b453",
   "metadata": {},
   "outputs": [],
   "source": [
    "# convert to numeric column and we are done\n",
    "\n",
    "df[\"sqm\"] = pd.to_numeric(df[\"sqm\"])"
   ]
  },
  {
   "cell_type": "code",
   "execution_count": null,
   "id": "1e60b977-70d5-4bce-9c72-6b55dc8180e0",
   "metadata": {},
   "outputs": [],
   "source": [
    "# convert from float64 to float32 to save memory\n",
    "\n",
    "df[\"sqm\"] = df[\"sqm\"].astype(np.float32)"
   ]
  },
  {
   "cell_type": "code",
   "execution_count": null,
   "id": "6a41b20b-5f51-4921-a021-7879ac048d21",
   "metadata": {},
   "outputs": [],
   "source": [
    "df[\"sqm\"]"
   ]
  },
  {
   "cell_type": "code",
   "execution_count": null,
   "id": "148436fd-90df-433b-bbdf-fbe3b0fd19be",
   "metadata": {},
   "outputs": [],
   "source": [
    "# checking sqm\n",
    "\n",
    "df[\"sqm\"].plot(kind=\"box\")\n",
    "\n",
    "# as seen we have some outlines"
   ]
  },
  {
   "cell_type": "code",
   "execution_count": null,
   "id": "7db007f2-768e-4233-8882-7f070d05e085",
   "metadata": {},
   "outputs": [],
   "source": [
    "# chekcing sqm > 1000 as these are most likely incorrect\n",
    "\n",
    "df[df[\"sqm\"] > 1000]"
   ]
  },
  {
   "cell_type": "code",
   "execution_count": null,
   "id": "f35166d2-1268-41f5-9b57-4ba685df0998",
   "metadata": {},
   "outputs": [],
   "source": [
    "# dropping rows with sqm greater than 1000\n",
    "\n",
    "df = df.drop(df[df[\"sqm\"] > 1000].index)"
   ]
  },
  {
   "cell_type": "code",
   "execution_count": null,
   "id": "b0c78d53-3d52-4737-85df-e9d05c6798e9",
   "metadata": {},
   "outputs": [],
   "source": [
    "# chekcing sqm less than or equal to 25 as these are most likely incorrect\n",
    "\n",
    "df[df[\"sqm\"] <= 25]"
   ]
  },
  {
   "cell_type": "code",
   "execution_count": null,
   "id": "aed159ff-6aca-479d-9e8a-0bf79c92c724",
   "metadata": {},
   "outputs": [],
   "source": [
    "# dropping rows with sqm less than or equal to 25\n",
    "\n",
    "df = df.drop(df[df[\"sqm\"] <= 25].index)"
   ]
  },
  {
   "cell_type": "code",
   "execution_count": null,
   "id": "ed9b71f0-636a-4f98-b5c7-eeeb28889c65",
   "metadata": {},
   "outputs": [],
   "source": [
    "# chekcng df\n",
    "\n",
    "df.head(3)"
   ]
  },
  {
   "cell_type": "markdown",
   "id": "085aa653-5c8a-4718-9b4e-7cd5c5a82346",
   "metadata": {},
   "source": [
    "# 5. Split data and cleaning colums (%_change_between_offer_and_purchase column)"
   ]
  },
  {
   "cell_type": "code",
   "execution_count": null,
   "id": "c1dafebf-eb02-4c5c-8abc-56e7d2d37a67",
   "metadata": {},
   "outputs": [],
   "source": [
    "# deleting unwanted text in _change_between_offer_and_purchase column\n",
    "\n",
    "df[\"%_change_between_offer_and_purchase\"] = df[\"%_change_between_offer_and_purchase\"].str.replace(\"%\" , \"\")\n",
    "df[\"%_change_between_offer_and_purchase\"] = df[\"%_change_between_offer_and_purchase\"].str.replace(\".\" , \"\")"
   ]
  },
  {
   "cell_type": "code",
   "execution_count": null,
   "id": "bf447af1-f10c-4d2f-9d35-d8e8c3a8cb13",
   "metadata": {},
   "outputs": [],
   "source": [
    "# convert to numeric column\n",
    "\n",
    "df[\"%_change_between_offer_and_purchase\"] = pd.to_numeric(df[\"%_change_between_offer_and_purchase\"])"
   ]
  },
  {
   "cell_type": "code",
   "execution_count": null,
   "id": "14f8841b-b49f-4bda-8e21-b4fa5bbf2803",
   "metadata": {},
   "outputs": [],
   "source": [
    "# convert from float64 to float32 to save memory\n",
    "\n",
    "df[\"%_change_between_offer_and_purchase\"] = df[\"%_change_between_offer_and_purchase\"].astype(np.float32)"
   ]
  },
  {
   "cell_type": "code",
   "execution_count": null,
   "id": "5d31cbc6-564f-4961-9715-8427b2382518",
   "metadata": {},
   "outputs": [],
   "source": [
    "# checking value range in %_change_between_offer_and_purchase (ckecking for outlines)\n",
    "\n",
    "df[\"%_change_between_offer_and_purchase\"].value_counts(sort=True)"
   ]
  },
  {
   "cell_type": "code",
   "execution_count": null,
   "id": "029b394a-e2f9-4592-9221-a20455b332e2",
   "metadata": {},
   "outputs": [],
   "source": [
    "# plotting value range in %_change_between_offer_and_purchase (ckecking for outlines)\n",
    "\n",
    "df[\"%_change_between_offer_and_purchase\"].plot(kind=\"box\")"
   ]
  },
  {
   "cell_type": "code",
   "execution_count": null,
   "id": "a14f8be0-e838-4dfe-b7ae-ffe7e3e0bc56",
   "metadata": {},
   "outputs": [],
   "source": [
    "# checking number of rows with change greater than 49%\n",
    "\n",
    "df[\"%_change_between_offer_and_purchase\"].loc[df[\"%_change_between_offer_and_purchase\"] > 49]"
   ]
  },
  {
   "cell_type": "code",
   "execution_count": null,
   "id": "8f45fdff-9c1d-47c7-9cd0-e52c7ff29774",
   "metadata": {},
   "outputs": [],
   "source": [
    "# dropping rows with change ahove 49% (https://stackoverflow.com/questions/13851535/how-to-delete-rows-from-a-pandas-dataframe-based-on-a-conditional-expression)\n",
    "\n",
    "df = df.drop(df[df[\"%_change_between_offer_and_purchase\"] > 49].index)"
   ]
  },
  {
   "cell_type": "code",
   "execution_count": null,
   "id": "703e6106-0e41-4e93-9eb3-969a5d33cd5f",
   "metadata": {},
   "outputs": [],
   "source": [
    "# checking number of rows with change greater than -49%\n",
    "\n",
    "df[\"%_change_between_offer_and_purchase\"].loc[df[\"%_change_between_offer_and_purchase\"] < -49]"
   ]
  },
  {
   "cell_type": "code",
   "execution_count": null,
   "id": "d556f92a-8670-4ffc-bbf6-b3bffd42b579",
   "metadata": {},
   "outputs": [],
   "source": [
    "# dropping rows with change greater than -49%\n",
    "\n",
    "df = df.drop(df[df[\"%_change_between_offer_and_purchase\"] < -49].index)"
   ]
  },
  {
   "cell_type": "code",
   "execution_count": null,
   "id": "333a1a92-d9fe-4e85-ac99-42e2c23631bb",
   "metadata": {},
   "outputs": [],
   "source": [
    "df.shape"
   ]
  },
  {
   "cell_type": "code",
   "execution_count": null,
   "id": "1c174665-63b2-4ad6-bb3f-dead514e4f18",
   "metadata": {},
   "outputs": [],
   "source": [
    "# checking \"buckets\" of change\n",
    "\n",
    "df[\"%_change_between_offer_and_purchase\"].value_counts(bins=20)"
   ]
  },
  {
   "cell_type": "code",
   "execution_count": null,
   "id": "6bcba408-0eb1-4e71-8709-64c061f78501",
   "metadata": {},
   "outputs": [],
   "source": [
    "# visual checking \"buckets\" of change\n",
    "\n",
    "df[\"%_change_between_offer_and_purchase\"].plot(kind=\"hist\")"
   ]
  },
  {
   "cell_type": "code",
   "execution_count": null,
   "id": "1a8614bf-82cc-477d-9665-db36fcfcb82b",
   "metadata": {},
   "outputs": [],
   "source": [
    "# checking for NaNs in %_change_between_offer_and_purchase\n",
    "\n",
    "df[\"%_change_between_offer_and_purchase\"].isna().sum()"
   ]
  },
  {
   "cell_type": "code",
   "execution_count": null,
   "id": "f34f7b29-cfdc-4053-b94b-f080f4028096",
   "metadata": {},
   "outputs": [],
   "source": [
    "# replaceing NaN with 0 as there was no difference better offer price and purchase price\n",
    "\n",
    "df['%_change_between_offer_and_purchase'] = df['%_change_between_offer_and_purchase'].replace(np.nan, 0)\n"
   ]
  },
  {
   "cell_type": "code",
   "execution_count": null,
   "id": "056ff538-2b21-4ebc-8c27-bcaf0b76e7e9",
   "metadata": {},
   "outputs": [],
   "source": [
    "# checking buckets\n",
    "\n",
    "df[\"%_change_between_offer_and_purchase\"].value_counts(bins=20).sort_index()\n"
   ]
  },
  {
   "cell_type": "code",
   "execution_count": null,
   "id": "91d55fee-acbb-42f4-b2df-17d4db99e51a",
   "metadata": {},
   "outputs": [],
   "source": [
    "df.head(3)"
   ]
  },
  {
   "cell_type": "markdown",
   "id": "a2212dac-32ad-4918-a086-863b90bdb2cf",
   "metadata": {},
   "source": [
    "# 6. Split data and cleaning colums (type_and_address column)"
   ]
  },
  {
   "cell_type": "code",
   "execution_count": null,
   "id": "6faed9d2-d42e-4386-87ba-1189bd552ac6",
   "metadata": {},
   "outputs": [],
   "source": [
    "# spliting text to get an overview and creating a variable (var)\n",
    "\n",
    "var = df[\"type_and_address\"].str.split(\" \", n=11, expand=True)"
   ]
  },
  {
   "cell_type": "code",
   "execution_count": null,
   "id": "b4aa14b5-c2c1-4d01-bb8c-c9ccebe22d46",
   "metadata": {},
   "outputs": [],
   "source": [
    "# checking var\n",
    "\n",
    "var.head(3)"
   ]
  },
  {
   "cell_type": "code",
   "execution_count": null,
   "id": "a3bc94d0-54ac-401b-9efe-517241e11db4",
   "metadata": {},
   "outputs": [],
   "source": [
    "# seeems like we have some double text\n",
    "\n",
    "var[1].value_counts()"
   ]
  },
  {
   "cell_type": "code",
   "execution_count": null,
   "id": "59d44be4-661f-4888-a008-26ea0cf928b3",
   "metadata": {},
   "outputs": [],
   "source": [
    "# seeems like we have some double text (checking again)\n",
    "\n",
    "df[\"type_and_address\"]"
   ]
  },
  {
   "cell_type": "code",
   "execution_count": null,
   "id": "209550cb-9054-4c6b-b031-504418d8a7fe",
   "metadata": {},
   "outputs": [],
   "source": [
    "# deleting housing type \"duplicates\" in each string\n",
    "\n",
    "df[\"type_and_address\"] = df[\"type_and_address\"].str.replace(\"VVilla \" , \"\" )\n",
    "df[\"type_and_address\"] = df[\"type_and_address\"].str.replace(\"EEjerlejlighed \" , \"\" )\n",
    "df[\"type_and_address\"] = df[\"type_and_address\"].str.replace(\"FFritidshus \" , \"\" )\n",
    "df[\"type_and_address\"] = df[\"type_and_address\"].str.replace(\"RRÃ¦kkehus \" , \"\")\n",
    "df[\"type_and_address\"] = df[\"type_and_address\"].str.replace(\"LLandejendom \" , \"\" )\n",
    "df[\"type_and_address\"] = df[\"type_and_address\"].str.replace(\"RRækkehus \" , \"\" )"
   ]
  },
  {
   "cell_type": "code",
   "execution_count": null,
   "id": "c9cbdd64-b745-4118-8c83-699ed646ba66",
   "metadata": {},
   "outputs": [],
   "source": [
    "# checking cleaned data\n",
    "\n",
    "var = df[\"type_and_address\"].str.split(\" \", n=9, expand=True)"
   ]
  },
  {
   "cell_type": "code",
   "execution_count": null,
   "id": "5d5da412-2f47-4e0f-be32-ff3202cc2dbd",
   "metadata": {},
   "outputs": [],
   "source": [
    "# checking cleaned data\n",
    "\n",
    "var[0].value_counts()"
   ]
  },
  {
   "cell_type": "code",
   "execution_count": null,
   "id": "c2d6047f-8b94-4539-9991-96345271096d",
   "metadata": {},
   "outputs": [],
   "source": [
    "# replacing DK text with ENG text\n",
    "\n",
    "df[\"type_and_address\"] = df[\"type_and_address\"].str.replace(\"Villa \" , \"Villa \" )\n",
    "df[\"type_and_address\"] = df[\"type_and_address\"].str.replace(\"Ejerlejlighed \" , \"Apartment \" )\n",
    "df[\"type_and_address\"] = df[\"type_and_address\"].str.replace(\"Fritidshus \" , \"Summerhouse \" )\n",
    "df[\"type_and_address\"] = df[\"type_and_address\"].str.replace(\"RÃ¦kkehus \" , \"Townhouse \")\n",
    "df[\"type_and_address\"] = df[\"type_and_address\"].str.replace(\"Landejendom \" , \"Farm \" )\n",
    "df[\"type_and_address\"] = df[\"type_and_address\"].str.replace(\"Rækkehus \" , \"Summerhouse \" )"
   ]
  },
  {
   "cell_type": "code",
   "execution_count": null,
   "id": "69a2965a-c887-4e67-ac98-fdd3f82f5cd6",
   "metadata": {},
   "outputs": [],
   "source": [
    "var"
   ]
  },
  {
   "cell_type": "code",
   "execution_count": null,
   "id": "b5c5224c-a943-4697-aeda-44a63734752a",
   "metadata": {},
   "outputs": [],
   "source": [
    "# we want split the column in order to create a new column called \"house_type\"\n",
    "\n",
    "df[\"type_and_address\"].str.split(\" \", n=1, expand=True)"
   ]
  },
  {
   "cell_type": "code",
   "execution_count": null,
   "id": "460f4af5-fa34-4f2f-bc28-cd581c23cdbf",
   "metadata": {},
   "outputs": [],
   "source": [
    "# creating new column with house_type\n",
    "\n",
    "new_col = df[\"type_and_address\"].str.split(\" \", n=1, expand=True)\n",
    "df[\"house_type\"] = new_col[0]"
   ]
  },
  {
   "cell_type": "code",
   "execution_count": null,
   "id": "09dcbdd8-9737-48d8-8597-c18de65d0145",
   "metadata": {},
   "outputs": [],
   "source": [
    "# checking unique \"strings\"\n",
    "\n",
    "df[\"house_type\"].unique()"
   ]
  },
  {
   "cell_type": "code",
   "execution_count": null,
   "id": "0ad5c138-4709-4e5b-83e7-e198af7724b6",
   "metadata": {},
   "outputs": [],
   "source": [
    "# change from dtype object to category to save memory\n",
    "\n",
    "df[\"house_type\"] = df[\"house_type\"].astype(\"category\")"
   ]
  },
  {
   "cell_type": "code",
   "execution_count": null,
   "id": "cbff30c3-1eaa-4a65-a66e-ab30c857b496",
   "metadata": {},
   "outputs": [],
   "source": [
    "# deleting house_type text from \"type_and_address\" column\n",
    "\n",
    "df[\"type_and_address\"] = df[\"type_and_address\"].str.replace(\"Villa \" , \"\" )\n",
    "df[\"type_and_address\"] = df[\"type_and_address\"].str.replace(\"Apartment \" , \"\" )\n",
    "df[\"type_and_address\"] = df[\"type_and_address\"].str.replace(\"Summerhouse \" , \"\" )\n",
    "df[\"type_and_address\"] = df[\"type_and_address\"].str.replace(\"Townhouse \" ,  \"\")\n",
    "df[\"type_and_address\"] = df[\"type_and_address\"].str.replace(\"Farm \" , \"\")"
   ]
  },
  {
   "cell_type": "code",
   "execution_count": null,
   "id": "6a96e015-ce24-417e-a030-ce01ca79a50b",
   "metadata": {},
   "outputs": [],
   "source": [
    "# replacing odd charectars with DK letters\n",
    "\n",
    "df[\"type_and_address\"] = df[\"type_and_address\"].str.replace(\"Ã¦\" , \"æ\")\n",
    "df[\"type_and_address\"] = df[\"type_and_address\"].str.replace(\"Ã¸\" , \"ø\")\n",
    "df[\"type_and_address\"] = df[\"type_and_address\"].str.replace(\"Ã¥\" , \"å\")\n",
    "df[\"type_and_address\"] = df[\"type_and_address\"].str.replace(\"Ã\" , \"A\")\n",
    "df[\"type_and_address\"] = df[\"type_and_address\"].str.replace(\"-Ã",
    "\" , \"A\")"
   ]
  },
  {
   "cell_type": "raw",
   "id": "e569ff6c-9dcd-4247-b784-7309cd05422a",
   "metadata": {},
   "source": [
    "Optimized code\n",
    "\n",
    "# Create a dictionary to map incorrect characters to the correct ones\n",
    "replace_dict = {\n",
    "    \"Ã¦\": \"æ\",\n",
    "    \"Ã¸\": \"ø\",\n",
    "    \"Ã¥\": \"å\",\n",
    "    \"Ã\": \"A\",\n",
    "    \"-Ã",
    "\": \"A\"\n",
    "}\n",
    "\n",
    "# Apply the replacements in a single step\n",
    "df[\"type_and_address\"] = df[\"type_and_address\"].replace(replace_dict, regex=True)"
   ]
  },
  {
   "cell_type": "code",
   "execution_count": null,
   "id": "b416ac06-bfb7-4ac2-93f8-fb175feb9049",
   "metadata": {},
   "outputs": [],
   "source": [
    "# checking type_and_address split as we want to seperate on address, zip code and city\n",
    "\n",
    "df[\"type_and_address\"].str.split(\" \", n=8, expand=True)"
   ]
  },
  {
   "cell_type": "code",
   "execution_count": null,
   "id": "2a65e269-7310-4cc6-ad8d-fa8c3c1a967a",
   "metadata": {},
   "outputs": [],
   "source": [
    "# checking names list\n",
    "\n",
    "names = df[\"type_and_address\"].tolist()"
   ]
  },
  {
   "cell_type": "code",
   "execution_count": null,
   "id": "613013db-8756-4638-8d3c-2a6b13fe8b73",
   "metadata": {},
   "outputs": [],
   "source": [
    "#names"
   ]
  },
  {
   "cell_type": "code",
   "execution_count": null,
   "id": "0bab83e2-4dd8-4220-8091-854a257ce80d",
   "metadata": {},
   "outputs": [],
   "source": [
    "# we can split on double space thus...:\n",
    "\n",
    "df[\"type_and_address\"].str.split(\"  \", n=2, expand=True)"
   ]
  },
  {
   "cell_type": "code",
   "execution_count": null,
   "id": "45b53022-e439-4b1a-a8e2-982046968085",
   "metadata": {},
   "outputs": [],
   "source": [
    "# creating new 2 columns for adress and zip code and city\n",
    "\n",
    "new_cols = new_col = df[\"type_and_address\"].str.split(\"  \", n=2, expand=True)\n",
    "df[\"address\"] = new_cols[0]\n",
    "df[\"city_test\"] = new_cols[1]"
   ]
  },
  {
   "cell_type": "code",
   "execution_count": null,
   "id": "7faa6c6b-23df-4f83-9540-9449310926df",
   "metadata": {},
   "outputs": [],
   "source": [
    "# creating new column for zip_code\n",
    "\n",
    "df[\"zip_code\"] = df[\"city_test\"].str[0:4]"
   ]
  },
  {
   "cell_type": "code",
   "execution_count": null,
   "id": "cf69d2f3-5a1c-4323-8d09-7fff30531edf",
   "metadata": {},
   "outputs": [],
   "source": [
    "# convert to numeric column\n",
    "\n",
    "df[\"zip_code\"] = pd.to_numeric(df[\"zip_code\"])"
   ]
  },
  {
   "cell_type": "code",
   "execution_count": null,
   "id": "bd4cc1b1-dd1d-4b9c-8c2a-d04c978ce673",
   "metadata": {},
   "outputs": [],
   "source": [
    "df[\"zip_code\"].info()"
   ]
  },
  {
   "cell_type": "code",
   "execution_count": null,
   "id": "45cf0e7f-6c24-496e-8ce6-5d9b6f1955bc",
   "metadata": {},
   "outputs": [],
   "source": [
    "df[\"zip_code\"] = df[\"zip_code\"].astype(np.int16)"
   ]
  },
  {
   "cell_type": "code",
   "execution_count": null,
   "id": "8b9d61ed-3a82-46b8-8aae-58a0c6b5ebd6",
   "metadata": {},
   "outputs": [],
   "source": [
    "# creating new column for city\n",
    "\n",
    "df[\"city\"] = df[\"city_test\"].str[5:]"
   ]
  },
  {
   "cell_type": "code",
   "execution_count": null,
   "id": "b8102934-edea-48d9-9a61-d1e07a931360",
   "metadata": {},
   "outputs": [],
   "source": [
    "# dropping columns we do not need any longer\n",
    "\n",
    "df = df.drop(['type_and_address', 'city_test'], axis=1)"
   ]
  },
  {
   "cell_type": "code",
   "execution_count": null,
   "id": "3db31762-533a-497a-9582-916b4183fcfd",
   "metadata": {},
   "outputs": [],
   "source": [
    "# checking df\n",
    "\n",
    "df.head(3)"
   ]
  },
  {
   "cell_type": "markdown",
   "id": "f627e0a5-a499-4ac7-8de1-3c1bae4a127d",
   "metadata": {},
   "source": [
    "# 7. Split data and cleaning colums (no_rooms column)"
   ]
  },
  {
   "cell_type": "code",
   "execution_count": null,
   "id": "5cbe599b-80c9-41a0-bbe1-ab1d5f9ecf62",
   "metadata": {},
   "outputs": [],
   "source": [
    "# checking no_romms\n",
    "\n",
    "df[\"no_rooms\"].plot(kind=\"box\")\n",
    "\n",
    "# we have outliers and want to delete those"
   ]
  },
  {
   "cell_type": "code",
   "execution_count": null,
   "id": "e782d3d1-6938-45c3-95dc-7b88216c649e",
   "metadata": {},
   "outputs": [],
   "source": [
    "# chekcing no_rooms > 15\n",
    "\n",
    "df[df[\"no_rooms\"] > 15]"
   ]
  },
  {
   "cell_type": "code",
   "execution_count": null,
   "id": "4ca4d7f8-dbc7-4484-8dfc-5f60f631a8ad",
   "metadata": {},
   "outputs": [],
   "source": [
    "# dropping rows with no_rooms greater than 15\n",
    "\n",
    "df = df.drop(df[df[\"no_rooms\"] > 15].index)"
   ]
  },
  {
   "cell_type": "code",
   "execution_count": null,
   "id": "99bde20f-f63b-4613-a199-3437d9e39d0e",
   "metadata": {},
   "outputs": [],
   "source": [
    "df[df[\"no_rooms\"] < 1]"
   ]
  },
  {
   "cell_type": "code",
   "execution_count": null,
   "id": "273d9e92-9b6b-4cd0-8eb8-8c7ddeb29872",
   "metadata": {},
   "outputs": [],
   "source": [
    "# dropping rows with no_rooms less than 1\n",
    "\n",
    "df = df.drop(df[df[\"no_rooms\"] < 1].index)"
   ]
  },
  {
   "cell_type": "code",
   "execution_count": null,
   "id": "90956470-45be-452d-a0f6-5ba79e196ab2",
   "metadata": {},
   "outputs": [],
   "source": [
    "# change dtype\n",
    "\n",
    "df[\"no_rooms\"] = df[\"no_rooms\"].astype(\"int8\")"
   ]
  },
  {
   "cell_type": "markdown",
   "id": "3bf8dc4c-3a65-4028-b0fc-0ec5f02929ec",
   "metadata": {},
   "source": [
    "# 8. Split data and cleaning colums (year_build column)"
   ]
  },
  {
   "cell_type": "code",
   "execution_count": null,
   "id": "128627e2-f4cf-4609-b9dc-4a31466b0a15",
   "metadata": {},
   "outputs": [],
   "source": [
    "# checking for outlines in year build\n",
    "\n",
    "df[\"year_build\"].plot(kind=\"box\")"
   ]
  },
  {
   "cell_type": "code",
   "execution_count": null,
   "id": "87d2048e-61e0-4f7a-89e2-8e1087c5fb99",
   "metadata": {},
   "outputs": [],
   "source": [
    "# chekcing year_build less than 1000\n",
    "\n",
    "df[df[\"year_build\"] < 1000]"
   ]
  },
  {
   "cell_type": "code",
   "execution_count": null,
   "id": "fc3ca803-d154-424e-85d9-4f30738ae931",
   "metadata": {},
   "outputs": [],
   "source": [
    "# dropping rows with year_build less than 1000\n",
    "\n",
    "df = df.drop(df[df[\"year_build\"] < 1000].index)"
   ]
  },
  {
   "cell_type": "code",
   "execution_count": null,
   "id": "d1601271-4694-4de2-9d7b-33fa1c33680f",
   "metadata": {},
   "outputs": [],
   "source": [
    "# convert to int16\n",
    "\n",
    "df[\"year_build\"] = df[\"year_build\"].astype(\"int16\")"
   ]
  },
  {
   "cell_type": "markdown",
   "id": "89a99b13-e7be-43b6-b413-a923c2507d94",
   "metadata": {},
   "source": [
    "# 9. Further checks and finetuning"
   ]
  },
  {
   "cell_type": "code",
   "execution_count": null,
   "id": "deadd16e-92d5-412d-8866-fdec2ae23250",
   "metadata": {},
   "outputs": [],
   "source": [
    "# create a new column call sqm_price\n",
    "\n",
    "df[\"sqm_price\"] = df[\"purchase_price\"] / df[\"sqm\"]"
   ]
  },
  {
   "cell_type": "code",
   "execution_count": null,
   "id": "6d452c96-1199-4ab8-942f-7b1980f43847",
   "metadata": {},
   "outputs": [],
   "source": [
    "# converting dtype to save memory\n",
    "\n",
    "df[\"sqm_price\"] = df[\"sqm_price\"].astype(\"float32\")"
   ]
  },
  {
   "cell_type": "code",
   "execution_count": null,
   "id": "57d30e5e-6be4-4f2d-83c5-5a3b5cb959bb",
   "metadata": {},
   "outputs": [],
   "source": [
    "df[\"sqm_price\"].plot(kind=\"box\")"
   ]
  },
  {
   "cell_type": "code",
   "execution_count": null,
   "id": "1a943a35-2fed-48ca-850b-b4b1c2562bb5",
   "metadata": {},
   "outputs": [],
   "source": [
    "# checking for outlines\n",
    "\n",
    "df[df[\"sqm_price\"] > 75_000]"
   ]
  },
  {
   "cell_type": "code",
   "execution_count": null,
   "id": "e7932bf0-6722-4535-9844-b47158b4f456",
   "metadata": {},
   "outputs": [],
   "source": [
    "# dropping rows with sqm_price greater than than DKK 75000\n",
    "\n",
    "df = df.drop(df[df[\"sqm_price\"] > 75000].index)"
   ]
  },
  {
   "cell_type": "code",
   "execution_count": null,
   "id": "a1226e30-9e9a-462b-a0c8-5638510fe32b",
   "metadata": {},
   "outputs": [],
   "source": [
    "df.head(3)"
   ]
  },
  {
   "cell_type": "code",
   "execution_count": null,
   "id": "1fc6863d-0d2c-40c6-87bd-046b3bb297d3",
   "metadata": {},
   "outputs": [],
   "source": [
    "# checkng dtypes\n",
    "\n",
    "df.dtypes"
   ]
  },
  {
   "cell_type": "code",
   "execution_count": null,
   "id": "d6d33c48-f980-4fbb-afd4-cd6083c81942",
   "metadata": {},
   "outputs": [],
   "source": [
    "# adding a quater column \n",
    "\n",
    "df[\"quarter\"] = pd.PeriodIndex(df[\"date\"], freq=\"Q\")"
   ]
  },
  {
   "cell_type": "code",
   "execution_count": null,
   "id": "4d66a720-27ac-4dd8-a714-6cff73a239f5",
   "metadata": {},
   "outputs": [],
   "source": [
    "# adding an unique house_id\n",
    "\n",
    "df[\"house_id\"] = df.groupby(['address', 'zip_code'], sort = False).ngroup()"
   ]
  },
  {
   "cell_type": "code",
   "execution_count": null,
   "id": "1d0e5126-7d1a-42e5-b335-dd3a21fc6438",
   "metadata": {},
   "outputs": [],
   "source": [
    "# reordering columns\n",
    "\n",
    "neworder = ['date', 'quarter', 'house_id', 'house_type', 'sales_type', 'year_build', 'purchase_price', '%_change_between_offer_and_purchase' , 'no_rooms', 'sqm', 'sqm_price', 'address', 'zip_code' , 'city']\n",
    "\n",
    "df=df.reindex(columns=neworder)"
   ]
  },
  {
   "cell_type": "code",
   "execution_count": null,
   "id": "70b594e7-53aa-4763-abbd-e6cc87f8c6d7",
   "metadata": {},
   "outputs": [],
   "source": [
    "df.head(5)"
   ]
  },
  {
   "cell_type": "code",
   "execution_count": null,
   "id": "9f45c559-79b1-4657-a478-943c15627617",
   "metadata": {},
   "outputs": [],
   "source": [
    "df.columns"
   ]
  },
  {
   "cell_type": "code",
   "execution_count": null,
   "id": "7424314e-5982-40fe-bc5a-aad742ff727b",
   "metadata": {},
   "outputs": [],
   "source": [
    "df.shape"
   ]
  },
  {
   "cell_type": "code",
   "execution_count": null,
   "id": "d34feb1e-a616-43d6-8c55-9a72191aba60",
   "metadata": {},
   "outputs": [],
   "source": [
    "# checking for duplicates with same sales date\n",
    "\n",
    "df[df.duplicated([\"address\", \"zip_code\", \"date\" ], keep=False)]"
   ]
  },
  {
   "cell_type": "code",
   "execution_count": null,
   "id": "90db1122-cd91-4c29-95f0-6bdfc705c57a",
   "metadata": {},
   "outputs": [],
   "source": [
    "# duplicates with same sales date i.e. only one row\n",
    "\n",
    "df = df.drop_duplicates(subset=['address', 'zip_code', 'date'], keep='first')"
   ]
  },
  {
   "cell_type": "code",
   "execution_count": null,
   "id": "405acd7c-dd6d-4367-87ef-fcdc49e3757d",
   "metadata": {},
   "outputs": [],
   "source": [
    "df.shape"
   ]
  },
  {
   "cell_type": "code",
   "execution_count": null,
   "id": "0e5f0c50-21ef-4964-9620-61d45cd5f49f",
   "metadata": {},
   "outputs": [],
   "source": [
    "df[\"house_id\"] = df.groupby(['address', 'zip_code'], sort = False).ngroup()"
   ]
  },
  {
   "cell_type": "code",
   "execution_count": null,
   "id": "99353e55-c5a9-40b1-8412-b4beb5a5bb35",
   "metadata": {},
   "outputs": [],
   "source": [
    "df"
   ]
  },
  {
   "cell_type": "code",
   "execution_count": null,
   "id": "7ad11473-5418-449c-9d42-cae6b959929a",
   "metadata": {},
   "outputs": [],
   "source": [
    "df[df.duplicated('house_id', keep=False)]"
   ]
  },
  {
   "cell_type": "code",
   "execution_count": null,
   "id": "11528de9-8afa-4b2d-a8f6-7d37a2a5f07a",
   "metadata": {},
   "outputs": [],
   "source": [
    "df.loc[df['house_id'] == 77891]"
   ]
  },
  {
   "cell_type": "code",
   "execution_count": null,
   "id": "9ad8fb9d-8e99-4fc5-af3f-d5aa8a97becd",
   "metadata": {},
   "outputs": [],
   "source": [
    "###https://www.geeksforgeeks.org/delete-duplicates-in-a-pandas-dataframe-based-on-two-columns/"
   ]
  },
  {
   "cell_type": "code",
   "execution_count": null,
   "id": "58e39fc2-5aae-45dd-b6e3-4ebedc738421",
   "metadata": {},
   "outputs": [],
   "source": [
    "df.sort_values(by=['house_id', 'date'])"
   ]
  },
  {
   "cell_type": "code",
   "execution_count": null,
   "id": "3d790d6a-f500-4cb5-816f-38b81d05095e",
   "metadata": {},
   "outputs": [],
   "source": [
    "df['date_diff'] = df.groupby('house_id')['date'].diff().dt.days"
   ]
  },
  {
   "cell_type": "code",
   "execution_count": null,
   "id": "8b5af826-68c1-4c6d-827b-a383585bfe6f",
   "metadata": {},
   "outputs": [],
   "source": [
    "df['date_diff'].isna().sum()"
   ]
  },
  {
   "cell_type": "code",
   "execution_count": null,
   "id": "cfcadb55-1227-4f90-ada0-01daa538da8d",
   "metadata": {},
   "outputs": [],
   "source": [
    "df_cleaned = df[df['date_diff'].isna() | (df['date_diff'] >= 14)]"
   ]
  },
  {
   "cell_type": "code",
   "execution_count": null,
   "id": "79656d98-e32f-471d-8127-b03a7e6fcea0",
   "metadata": {},
   "outputs": [],
   "source": [
    "df = df_cleaned.drop(columns=['date_diff'])"
   ]
  },
  {
   "cell_type": "code",
   "execution_count": null,
   "id": "8771a4ca-9d62-4ad3-af68-6cf8e5d10cd7",
   "metadata": {},
   "outputs": [],
   "source": [
    "df"
   ]
  },
  {
   "cell_type": "markdown",
   "id": "b590213b-8abd-4da5-84a6-5f87e4438728",
   "metadata": {},
   "source": [
    "# 10. Importing zip code data file"
   ]
  },
  {
   "cell_type": "code",
   "execution_count": null,
   "id": "654cdeba-16a5-4191-a77a-914131bae793",
   "metadata": {},
   "outputs": [],
   "source": [
    "zd = pd.read_excel(r'C:\\Users\\ insert your path \\DK_regions_zip_codes.xlsx')"
   ]
  },
  {
   "cell_type": "code",
   "execution_count": null,
   "id": "6109dc14-94f2-4f51-a959-1afcdd97f2dc",
   "metadata": {},
   "outputs": [],
   "source": [
    "zd.dtypes"
   ]
  },
  {
   "cell_type": "code",
   "execution_count": null,
   "id": "0d5a5146-49ed-4a64-b1b7-093e5775743d",
   "metadata": {},
   "outputs": [],
   "source": [
    "# changing dtype to save memory\n",
    "\n",
    "zd[\"area\"] = zd[\"area\"].astype(\"category\")\n",
    "zd[\"region\"] = zd[\"region\"].astype(\"category\")"
   ]
  },
  {
   "cell_type": "code",
   "execution_count": null,
   "id": "8a3a555e-cb67-4e06-b6da-6c4817e9b877",
   "metadata": {},
   "outputs": [],
   "source": [
    "df.shape"
   ]
  },
  {
   "cell_type": "code",
   "execution_count": null,
   "id": "59ce5ad4-8628-4ea7-a9d5-58686d03a979",
   "metadata": {},
   "outputs": [],
   "source": [
    "\n",
    "# Define a function to assign the region_name and region_no based on zip_code\n",
    "\n",
    "# OBS! SLOW code however couldn't get dirc. version to work\n",
    "\n",
    "def assign_region(row):\n",
    "    if 0 <= row['zip_code'] <= 999:\n",
    "        return pd.Series(['Special for organisation and large corportes', 'Non given'], index=['area', 'region'])\n",
    "    elif 1000 <= row['zip_code'] <= 2999:\n",
    "        return pd.Series(['Capital, Copenhagen', 'Zealand'], index=['area', 'region'])\n",
    "    elif 3000 <= row['zip_code'] <= 3699:\n",
    "        return pd.Series(['North Zealand', 'Zealand'], index=['area', 'region'])\n",
    "    elif 3700 <= row['zip_code'] <= 3799:\n",
    "        return pd.Series(['Bornholm', 'Bornholm'], index=['area', 'region'])\n",
    "    elif 3800 <= row['zip_code'] <= 3899:\n",
    "        return pd.Series(['Faroe Islands', 'Faroe Islands'], index=['area', 'region'])\n",
    "    elif 3900 <= row['zip_code'] <= 3999:\n",
    "        return pd.Series(['Greenland', 'Greenland'], index=['area', 'region'])\n",
    "    elif 4000 <= row['zip_code'] <= 4999:\n",
    "        return pd.Series(['Other islands', 'Zealand'], index=['area', 'region'])\n",
    "    elif 5000 <= row['zip_code'] <= 5999:\n",
    "        return pd.Series(['Fyn & islands', 'Fyn & islands'], index=['area', 'region'])\n",
    "    elif 6000 <= row['zip_code'] <= 6999:\n",
    "        return pd.Series(['South jutland', 'Jutland'], index=['area', 'region'])\n",
    "    elif 7000 <= row['zip_code'] <= 7999:\n",
    "        return pd.Series(['South jutland', 'Jutland'], index=['area', 'region'])\n",
    "    elif 8000 <= row['zip_code'] <= 8999:\n",
    "        return pd.Series(['East & mid jutland', 'Jutland'], index=['area', 'region'])\n",
    "    elif 9000 <= row['zip_code'] <= 9999:\n",
    "        return pd.Series(['North jutland', 'Jutland'], index=['area', 'region'])\n",
    "    else:\n",
    "        return pd.Series([None, None], index=['region_name', 'region_no'])\n",
    "\n",
    "# Apply the function to the DataFrame\n",
    "df[['area', 'region']] = df.apply(assign_region, axis=1)"
   ]
  },
  {
   "cell_type": "code",
   "execution_count": null,
   "id": "ea2f87f4-a871-4208-b492-34443d160704",
   "metadata": {},
   "outputs": [],
   "source": [
    "df.shape"
   ]
  },
  {
   "cell_type": "code",
   "execution_count": null,
   "id": "5181507f-ed03-4907-8f5c-3c51122e9449",
   "metadata": {},
   "outputs": [],
   "source": [
    "df[\"region\"].unique()"
   ]
  },
  {
   "cell_type": "code",
   "execution_count": null,
   "id": "eeea943d-bb38-4707-af20-fe297e1364f6",
   "metadata": {},
   "outputs": [],
   "source": [
    "df"
   ]
  },
  {
   "cell_type": "markdown",
   "id": "0c1d341d-17ee-43c8-80d6-dcd43fc3d849",
   "metadata": {},
   "source": [
    "# 11. Importing interest rate data file"
   ]
  },
  {
   "cell_type": "code",
   "execution_count": null,
   "id": "e74a341f-1578-4f06-be9a-207687691ba6",
   "metadata": {},
   "outputs": [],
   "source": [
    "ird = pd.read_excel(r'C:\\Users\\ insert your path \\DK_interest_rates.xlsx')"
   ]
  },
  {
   "cell_type": "code",
   "execution_count": null,
   "id": "1f2743f9-d936-47f7-9189-1f170ebe6eff",
   "metadata": {},
   "outputs": [],
   "source": [
    "# replacing in order to convert to data format\n",
    "\n",
    "ird[\"date\"] = ird[\"date\"].str.replace(\"M\" , \"-\" )\n",
    "ird[\"date\"] = ird[\"date\"].str.replace(\"D\" , \"-\" )"
   ]
  },
  {
   "cell_type": "code",
   "execution_count": null,
   "id": "ebe30477-6b97-4581-b902-7f6b8764bb8a",
   "metadata": {},
   "outputs": [],
   "source": [
    "# date convert\n",
    "\n",
    "ird[\"date\"] = pd.to_datetime(ird[\"date\"], dayfirst=False)\n"
   ]
  },
  {
   "cell_type": "code",
   "execution_count": null,
   "id": "14d7717f-33c3-4aa8-baa3-abf9b71a54b6",
   "metadata": {},
   "outputs": [],
   "source": [
    "ird[\"quarter\"] = pd.PeriodIndex(ird[\"date\"], freq=\"Q\")"
   ]
  },
  {
   "cell_type": "code",
   "execution_count": null,
   "id": "b043673c-c799-4932-9e79-79942c93d49c",
   "metadata": {},
   "outputs": [],
   "source": [
    "ird = ird.drop('date', axis=1)"
   ]
  },
  {
   "cell_type": "code",
   "execution_count": null,
   "id": "e772faca-aec8-4f3a-9dd2-5994f327bc43",
   "metadata": {},
   "outputs": [],
   "source": [
    "ird[\"quarter\"].info()"
   ]
  },
  {
   "cell_type": "code",
   "execution_count": null,
   "id": "b4ebeefa-4a67-468a-b5b6-f63d20962a2a",
   "metadata": {},
   "outputs": [],
   "source": [
    "ird.dtypes"
   ]
  },
  {
   "cell_type": "code",
   "execution_count": null,
   "id": "3da145e6-7536-4fc8-b8d9-b20680c1037c",
   "metadata": {},
   "outputs": [],
   "source": [
    "ird"
   ]
  },
  {
   "cell_type": "code",
   "execution_count": null,
   "id": "5b851bf2-b42f-4d39-8e8d-d096ca1a9b3e",
   "metadata": {},
   "outputs": [],
   "source": [
    "#ird.sort_index(ascending=False)"
   ]
  },
  {
   "cell_type": "code",
   "execution_count": null,
   "id": "e3309b94-e9f0-4211-8111-0edb34b03158",
   "metadata": {},
   "outputs": [],
   "source": [
    "# Ensure there are no duplicates in 'ird' for the 'quarter' column\n",
    "ird_unique = ird.drop_duplicates(subset='quarter')\n",
    "\n",
    "# Now, perform the merge\n",
    "df = df.merge(ird_unique[['quarter', 'nom_interest_rate%']], on='quarter', how='left')"
   ]
  },
  {
   "cell_type": "code",
   "execution_count": null,
   "id": "2abcc55e-237d-4261-82d4-691f7d2237ab",
   "metadata": {},
   "outputs": [],
   "source": [
    "df"
   ]
  },
  {
   "cell_type": "markdown",
   "id": "ed4623cf-7776-464c-b70f-bdd7211a7304",
   "metadata": {},
   "source": [
    "# 12. Importing inflation rate data file"
   ]
  },
  {
   "cell_type": "code",
   "execution_count": null,
   "id": "3637a8c9-46eb-4edc-8e5d-beb379dbf483",
   "metadata": {},
   "outputs": [],
   "source": [
    "inflation = pd.read_excel(r'C:\\Users\\ insert your path \\DK_inflation_rates.xlsx')"
   ]
  },
  {
   "cell_type": "code",
   "execution_count": null,
   "id": "986eecb2-6dd4-42cd-8f9f-353138d9dc93",
   "metadata": {},
   "outputs": [],
   "source": [
    "inflation.head(3)"
   ]
  },
  {
   "cell_type": "code",
   "execution_count": null,
   "id": "b7644e5c-8fad-4281-badd-fdf1e830bcc2",
   "metadata": {},
   "outputs": [],
   "source": [
    "inflation[\"dk_ann_infl_rate%\"] = inflation[\"dk_ann_infl_rate%\"].str.replace(\" %\" , \"\" )\n",
    "inflation[\"dk_ann_infl_rate%\"] = pd.to_numeric(inflation[\"dk_ann_infl_rate%\"])"
   ]
  },
  {
   "cell_type": "code",
   "execution_count": null,
   "id": "3eefffaf-34f2-4b1a-97da-a0b47c1bd428",
   "metadata": {},
   "outputs": [],
   "source": [
    "inflation[\"quarter\"] = pd.PeriodIndex(inflation[\"date\"], freq=\"Q\")"
   ]
  },
  {
   "cell_type": "code",
   "execution_count": null,
   "id": "a9da8ad3-c393-4ebb-b04a-827b9b1d344c",
   "metadata": {},
   "outputs": [],
   "source": [
    "inflation.head(3)"
   ]
  },
  {
   "cell_type": "code",
   "execution_count": null,
   "id": "d259a585-00e8-4f49-9f2a-c7afb61b3607",
   "metadata": {},
   "outputs": [],
   "source": [
    "inflation.drop(\"date\", axis=1)"
   ]
  },
  {
   "cell_type": "code",
   "execution_count": null,
   "id": "9459d4de-0b46-4193-8e27-00f6b5319974",
   "metadata": {},
   "outputs": [],
   "source": [
    "# Ensure there are no duplicates in 'ird' for the 'quarter' column\n",
    "inflation_unique = inflation.drop_duplicates(subset='quarter')\n",
    "\n",
    "# Now, perform the merge\n",
    "df = df.merge(inflation_unique[['quarter', 'dk_ann_infl_rate%']], on='quarter', how='left')"
   ]
  },
  {
   "cell_type": "code",
   "execution_count": null,
   "id": "ef48eba1-fb03-4226-adca-17a2e8d9358e",
   "metadata": {},
   "outputs": [],
   "source": [
    "df.head(3)"
   ]
  },
  {
   "cell_type": "code",
   "execution_count": null,
   "id": "af09d269-8ea6-45c2-b73a-6743ff607134",
   "metadata": {},
   "outputs": [],
   "source": [
    "inflation_unique"
   ]
  },
  {
   "cell_type": "code",
   "execution_count": null,
   "id": "4987da22-eb55-4c23-9d33-fe82215a291e",
   "metadata": {},
   "outputs": [],
   "source": [
    "df.loc[df[\"quarter\"] == '2024Q3']"
   ]
  },
  {
   "cell_type": "code",
   "execution_count": null,
   "id": "75bbeb6f-bb5e-4c44-b40d-651179f96496",
   "metadata": {},
   "outputs": [],
   "source": [
    "df[\"dk_ann_infl_rate%\"].isna().sum()"
   ]
  },
  {
   "cell_type": "markdown",
   "id": "5cff71c6-193e-4d57-ac04-a0992fbb7a1d",
   "metadata": {},
   "source": [
    "# 13. Importing inflation rate data file"
   ]
  },
  {
   "cell_type": "code",
   "execution_count": null,
   "id": "7a359ab0-e759-4802-a8c8-400a1272a6ea",
   "metadata": {},
   "outputs": [],
   "source": [
    "morgage = pd.read_excel(r'C:\\Users\\ insert your path \\DK_morgage_rates.xlsx')"
   ]
  },
  {
   "cell_type": "code",
   "execution_count": null,
   "id": "ac2a3624-ad20-4f95-93b3-da153ea2cc3f",
   "metadata": {},
   "outputs": [],
   "source": [
    "morgage.head(3)"
   ]
  },
  {
   "cell_type": "code",
   "execution_count": null,
   "id": "dbd58406-9302-4721-8ec2-37f27344c923",
   "metadata": {},
   "outputs": [],
   "source": [
    "morgage.dtypes"
   ]
  },
  {
   "cell_type": "code",
   "execution_count": null,
   "id": "0576ede8-a230-4d07-8d0c-62d21f7c0015",
   "metadata": {},
   "outputs": [],
   "source": [
    "morgage[\"quarter\"] = pd.PeriodIndex(morgage[\"date\"], freq=\"Q\")"
   ]
  },
  {
   "cell_type": "code",
   "execution_count": null,
   "id": "40e59a14-a931-4406-abfc-4f10e31d07e3",
   "metadata": {},
   "outputs": [],
   "source": [
    "morgage.head(3)"
   ]
  },
  {
   "cell_type": "code",
   "execution_count": null,
   "id": "bb4a6621-9768-41d7-9e7b-dfcb1db00f86",
   "metadata": {},
   "outputs": [],
   "source": [
    "morgage.drop(\"date\", axis=1)"
   ]
  },
  {
   "cell_type": "code",
   "execution_count": null,
   "id": "0aabdec2-7daf-430f-849f-d48ff3b04cff",
   "metadata": {},
   "outputs": [],
   "source": [
    "morgage_unique = morgage.drop_duplicates(subset='quarter')\n",
    "\n",
    "# Now, perform the merge\n",
    "df = df.merge(morgage_unique[['quarter', 'yield_on_mortgage_credit_bonds%']], on='quarter', how='left')"
   ]
  },
  {
   "cell_type": "code",
   "execution_count": null,
   "id": "4cea7bcf-3b3c-4465-acea-26036a5a1aca",
   "metadata": {},
   "outputs": [],
   "source": [
    "df.head()"
   ]
  },
  {
   "cell_type": "code",
   "execution_count": null,
   "id": "90a01ea7-ac92-415c-813a-df4d7854e69d",
   "metadata": {},
   "outputs": [],
   "source": [
    "df.loc[df[\"quarter\"] == '2024Q3']"
   ]
  },
  {
   "cell_type": "code",
   "execution_count": null,
   "id": "9e7db163-7b7c-42d0-8d38-207e206cd852",
   "metadata": {},
   "outputs": [],
   "source": [
    "df.loc[df[\"quarter\"] == '1995Q3']"
   ]
  },
  {
   "cell_type": "code",
   "execution_count": null,
   "id": "7c3a3fb6-22e3-43ee-bb79-db8006c6f8fa",
   "metadata": {},
   "outputs": [],
   "source": [
    "df.info()"
   ]
  },
  {
   "cell_type": "markdown",
   "id": "4ca83fa9-b91d-43c4-9511-04670a50d00e",
   "metadata": {},
   "source": [
    "# 14. Final checks and adjustments"
   ]
  },
  {
   "cell_type": "code",
   "execution_count": null,
   "id": "ee6fc8cf-d3f8-4e61-aac0-62b246da07d4",
   "metadata": {},
   "outputs": [],
   "source": [
    "df[\"nom_interest_rate%\"] = df[\"nom_interest_rate%\"].astype(\"float32\")\n",
    "df[\"dk_ann_infl_rate%\"] = df[\"dk_ann_infl_rate%\"].astype(\"float32\")\n",
    "df[\"yield_on_mortgage_credit_bonds%\"] = df[\"yield_on_mortgage_credit_bonds%\"].astype(\"float32\")"
   ]
  },
  {
   "cell_type": "code",
   "execution_count": null,
   "id": "2bd2e15c-928a-4cfb-921c-9944d126673d",
   "metadata": {},
   "outputs": [],
   "source": [
    "df[\"area\"] = df[\"area\"].astype(\"category\")\n",
    "df[\"region\"] = df[\"region\"].astype(\"category\")"
   ]
  },
  {
   "cell_type": "code",
   "execution_count": null,
   "id": "400a1ee2-40b6-4a86-89bf-b3ebe6387ce0",
   "metadata": {},
   "outputs": [],
   "source": [
    "df"
   ]
  },
  {
   "cell_type": "code",
   "execution_count": null,
   "id": "3945778a-a2c6-4dcd-9cb2-172407ac7fa8",
   "metadata": {},
   "outputs": [],
   "source": [
    "df = df.sort_values(by=['date'], ascending=False)"
   ]
  },
  {
   "cell_type": "code",
   "execution_count": null,
   "id": "f22c57f5-7607-4bf3-865d-c821a2a8ed62",
   "metadata": {},
   "outputs": [],
   "source": [
    "df"
   ]
  },
  {
   "cell_type": "markdown",
   "id": "14dd580f-3123-489c-a1ba-a1b35ea75cbe",
   "metadata": {},
   "source": [
    "# 15. Exporting"
   ]
  },
  {
   "cell_type": "code",
   "execution_count": null,
   "id": "0c457bde-ef34-46ec-b53b-3217fce7fa3a",
   "metadata": {},
   "outputs": [],
   "source": [
    "df.to_csv(r'C:\\Users insert your path \\DKHousingPrices.csv', index=False)"
   ]
  },
  {
   "cell_type": "code",
   "execution_count": null,
   "id": "b6af3003-8ad1-42fb-9d1c-5cf0c6f0206a",
   "metadata": {},
   "outputs": [],
   "source": [
    "df.to_parquet(r'C:\\Users\\ insert your path \\DKHousingPrices.parquet', engine='auto', compression='snappy', index=False)"
   ]
  },
  {
   "cell_type": "code",
   "execution_count": null,
   "id": "f2622592-ed38-48f5-a66a-eff79ade2db7",
   "metadata": {},
   "outputs": [],
   "source": []
  },
  {
   "cell_type": "code",
   "execution_count": null,
   "id": "d86845e4-6518-457f-a97f-722f03782d5b",
   "metadata": {},
   "outputs": [],
   "source": [
    "df_t = pd.read_parquet(r'C:\\Users\\Marty\\Desktop\\DKHousingPrices\\Cleaned_files\\DKHousingPrices.parquet')"
   ]
  },
  {
   "cell_type": "code",
   "execution_count": null,
   "id": "6cb1b71c-67d9-47e9-aaad-c18b4225b9f0",
   "metadata": {},
   "outputs": [],
   "source": [
    "df_t"
   ]
  },
  {
   "cell_type": "code",
   "execution_count": null,
   "id": "9b695cce-2492-48a6-8794-f40d2ee3cbc6",
   "metadata": {},
   "outputs": [],
   "source": [
    "# reducing file size futher but not enough thus point 16...\n",
    "\n",
    "df_t.to_parquet(r'C:\\Users\\Marty\\Desktop\\DKHousingPricesGit\\Cleaned_files\\DKHousingPrices.parquet2', engine='auto', compression='zstd', index=False)"
   ]
  },
  {
   "cell_type": "code",
   "execution_count": null,
   "id": "7dc9c804-0466-44d8-9cd7-b6e280134fc6",
   "metadata": {},
   "outputs": [],
   "source": [
    "df_t.info()"
   ]
  },
  {
   "cell_type": "code",
   "execution_count": null,
   "id": "5c24aa60-d15b-46bd-8fb6-d3ddeec7f943",
   "metadata": {},
   "outputs": [],
   "source": []
  },
  {
   "cell_type": "markdown",
   "id": "65e4434c-0431-4395-ac32-8533ae16624f",
   "metadata": {},
   "source": [
    "# 16. Extra for spliting parquet in two files"
   ]
  },
  {
   "cell_type": "code",
   "execution_count": 3,
   "id": "c5e220c1-c7f3-43c8-8b8c-555997cd1b8a",
   "metadata": {},
   "outputs": [],
   "source": [
    "df_t = pd.read_parquet(r'C:\\Users\\ insert your path \\DKHousingPrices.parquet')"
   ]
  },
  {
   "cell_type": "code",
   "execution_count": 6,
   "id": "aa2a14a0-44be-48f0-8a7a-ca0061348147",
   "metadata": {},
   "outputs": [
    {
     "data": {
      "text/plain": [
       "(1507908, 19)"
      ]
     },
     "execution_count": 6,
     "metadata": {},
     "output_type": "execute_result"
    }
   ],
   "source": [
    "df_t.shape"
   ]
  },
  {
   "cell_type": "code",
   "execution_count": 10,
   "id": "cb602d83-dda1-4667-9175-d84a58b5c7e7",
   "metadata": {},
   "outputs": [
    {
     "name": "stdout",
     "output_type": "stream",
     "text": [
      "Creating: C:\\Users\\Marty\\Desktop\\DKHousingPricesGit\\Cleaned_files\\file_part_0.parquet\n",
      "Created: C:\\Users\\Marty\\Desktop\\DKHousingPricesGit\\Cleaned_files\\file_part_0.parquet\n",
      "Creating: C:\\Users\\Marty\\Desktop\\DKHousingPricesGit\\Cleaned_files\\file_part_1.parquet\n",
      "Created: C:\\Users\\Marty\\Desktop\\DKHousingPricesGit\\Cleaned_files\\file_part_1.parquet\n"
     ]
    }
   ],
   "source": [
    "\n",
    "# Define the chunk size (e.g., number of rows per chunk)\n",
    "chunk_size = 800000  # Adjust as needed based on the size of the dataset\n",
    "\n",
    "# Define the target directory\n",
    "target_directory = r\"C:\\Users\\Marty\\Desktop\\DKHousingPricesGit\\Cleaned_files\"\n",
    "\n",
    "# Ensure the target directory exists (create it if not)\n",
    "os.makedirs(target_directory, exist_ok=True)\n",
    "\n",
    "# Split the DataFrame into chunks and write each chunk to a new Parquet file\n",
    "for i in range(0, len(df_t), chunk_size):\n",
    "    chunk = df_t.iloc[i:i + chunk_size]\n",
    "    \n",
    "    # Calculate the current chunk index\n",
    "    chunk_index = i // chunk_size\n",
    "    # Construct the full file path for each chunk\n",
    "    file_name = os.path.join(target_directory, f'file_part_{chunk_index}.parquet')\n",
    "    \n",
    "    # Print the name of the file being created to verify unique names\n",
    "    print(f\"Creating: {file_name}\")\n",
    "    \n",
    "    # Save each chunk as a new Parquet file with zstd compression\n",
    "    chunk.to_parquet(file_name, compression='zstd')\n",
    "    \n",
    "    # Print confirmation\n",
    "    print(f\"Created: {file_name}\")"
   ]
  },
  {
   "cell_type": "code",
   "execution_count": null,
   "id": "15374032-3472-45cd-bbf9-086b6edd2186",
   "metadata": {},
   "outputs": [],
   "source": []
  },
  {
   "cell_type": "code",
   "execution_count": 18,
   "id": "ad0bc8cf-23e5-4f9f-a2c8-e73910d8649e",
   "metadata": {},
   "outputs": [],
   "source": [
    "test = pd.read_parquet(r'C:\\Users\\Marty\\Desktop\\DKHousingPricesGit\\Cleaned_files\\file_part_1.parquet')"
   ]
  },
  {
   "cell_type": "code",
   "execution_count": 24,
   "id": "853c4dae-f68b-44d5-8c6e-47ef31cfac03",
   "metadata": {},
   "outputs": [
    {
     "data": {
      "text/plain": [
       "date                                   datetime64[ns]\n",
       "quarter                                 period[Q-DEC]\n",
       "house_id                                        int64\n",
       "house_type                                   category\n",
       "sales_type                                   category\n",
       "year_build                                      int16\n",
       "purchase_price                                  int32\n",
       "%_change_between_offer_and_purchase           float32\n",
       "no_rooms                                         int8\n",
       "sqm                                           float32\n",
       "sqm_price                                     float32\n",
       "address                                        object\n",
       "zip_code                                        int16\n",
       "city                                           object\n",
       "area                                         category\n",
       "region                                       category\n",
       "nom_interest_rate%                            float32\n",
       "dk_ann_infl_rate%                             float32\n",
       "yield_on_mortgage_credit_bonds%               float32\n",
       "dtype: object"
      ]
     },
     "execution_count": 24,
     "metadata": {},
     "output_type": "execute_result"
    }
   ],
   "source": [
    "test.dtypes"
   ]
  },
  {
   "cell_type": "code",
   "execution_count": null,
   "id": "bee8fdfb-e933-4b4b-be75-97168ca996f9",
   "metadata": {},
   "outputs": [],
   "source": []
  }
 ],
 "metadata": {
  "kernelspec": {
   "display_name": "Python 3 (ipykernel)",
   "language": "python",
   "name": "python3"
  },
  "language_info": {
   "codemirror_mode": {
    "name": "ipython",
    "version": 3
   },
   "file_extension": ".py",
   "mimetype": "text/x-python",
   "name": "python",
   "nbconvert_exporter": "python",
   "pygments_lexer": "ipython3",
   "version": "3.8.19"
  }
 },
 "nbformat": 4,
 "nbformat_minor": 5
}
