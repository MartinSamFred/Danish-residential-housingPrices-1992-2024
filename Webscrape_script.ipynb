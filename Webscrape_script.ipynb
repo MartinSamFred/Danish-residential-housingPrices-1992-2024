{
 "cells": [
  {
   "cell_type": "code",
   "execution_count": 2,
   "id": "a1544130-e7e5-4a36-9ab3-6660a01727e5",
   "metadata": {},
   "outputs": [],
   "source": [
    "import pandas as pd\n",
    "import numpy as np\n",
    "import time"
   ]
  },
  {
   "cell_type": "code",
   "execution_count": 3,
   "id": "e33e0461-0e2a-4741-b4e6-0d1177823158",
   "metadata": {},
   "outputs": [],
   "source": [
    "start_time = time.time()"
   ]
  },
  {
   "cell_type": "code",
   "execution_count": 4,
   "id": "13b1349c-991b-404a-b525-f39756976a8c",
   "metadata": {},
   "outputs": [],
   "source": [
    "# the site: https://www.boliga.dk/salg/resultater?searchTab=1&page=1d&sort=date-d  ===> number of pages 1 - 35928\n",
    "\n",
    "df1_list = []\n",
    "for i in range(1, 5000):   # should be changed once downloeded as we get timed out if we take all 35000 pages in one go\n",
    "    url_head = \"https://www.boliga.dk/salg/resultater?searchTab=1&page=%d&sort=date-d\" %i\n",
    "    df1_list.append(pd.read_html(url_head)[0])\n",
    "\n",
    "df1 =pd.concat(df1_list)"
   ]
  },
  {
   "cell_type": "code",
   "execution_count": 5,
   "id": "c86e4e47-815b-4c08-86fd-5049612e49a6",
   "metadata": {},
   "outputs": [
    {
     "data": {
      "text/html": [
       "<div>\n",
       "<style scoped>\n",
       "    .dataframe tbody tr th:only-of-type {\n",
       "        vertical-align: middle;\n",
       "    }\n",
       "\n",
       "    .dataframe tbody tr th {\n",
       "        vertical-align: top;\n",
       "    }\n",
       "\n",
       "    .dataframe thead th {\n",
       "        text-align: right;\n",
       "    }\n",
       "</style>\n",
       "<table border=\"1\" class=\"dataframe\">\n",
       "  <thead>\n",
       "    <tr style=\"text-align: right;\">\n",
       "      <th></th>\n",
       "      <th>Boligtype &amp; Adresse</th>\n",
       "      <th>KÃ¸besum</th>\n",
       "      <th>Dato &amp; Type</th>\n",
       "      <th>mÂ² &amp; Kr. / mÂ²</th>\n",
       "      <th>VÃ¦r.</th>\n",
       "      <th>ByggeÃ¥r</th>\n",
       "      <th>Den procentuelle forskel mellem seneste udbudspris og salgsprisen %</th>\n",
       "      <th>Unnamed: 7</th>\n",
       "    </tr>\n",
       "  </thead>\n",
       "  <tbody>\n",
       "    <tr>\n",
       "      <th>0</th>\n",
       "      <td>Villa VVilla Haretoften 3  7500 Holstebro</td>\n",
       "      <td>79.000 kr.</td>\n",
       "      <td>21-01-1994Alm. Salg</td>\n",
       "      <td>162 mÂ² 488 kr/mÂ²</td>\n",
       "      <td>5</td>\n",
       "      <td>1994</td>\n",
       "      <td>NaN</td>\n",
       "      <td>Aktuel vÃ¦rdi</td>\n",
       "    </tr>\n",
       "    <tr>\n",
       "      <th>1</th>\n",
       "      <td>Villa VVilla Brandholms Alle 65  2610 RÃ¸dovre</td>\n",
       "      <td>952.467 kr.</td>\n",
       "      <td>21-01-1994Alm. Salg</td>\n",
       "      <td>135 mÂ² 7.055 kr/mÂ²</td>\n",
       "      <td>6</td>\n",
       "      <td>1961</td>\n",
       "      <td>NaN</td>\n",
       "      <td>Aktuel vÃ¦rdi</td>\n",
       "    </tr>\n",
       "    <tr>\n",
       "      <th>2</th>\n",
       "      <td>RÃ¦kkehus RRÃ¦kkehus Agtoftsvej 56  6400 SÃ¸nd...</td>\n",
       "      <td>340.000 kr.</td>\n",
       "      <td>20-01-1994Alm. Salg</td>\n",
       "      <td>60 mÂ² 5.667 kr/mÂ²</td>\n",
       "      <td>2</td>\n",
       "      <td>1963</td>\n",
       "      <td>NaN</td>\n",
       "      <td>Aktuel vÃ¦rdi</td>\n",
       "    </tr>\n",
       "  </tbody>\n",
       "</table>\n",
       "</div>"
      ],
      "text/plain": [
       "                                 Boligtype & Adresse     KÃ¸besum  \\\n",
       "0          Villa VVilla Haretoften 3  7500 Holstebro   79.000 kr.   \n",
       "1     Villa VVilla Brandholms Alle 65  2610 RÃ¸dovre  952.467 kr.   \n",
       "2  RÃ¦kkehus RRÃ¦kkehus Agtoftsvej 56  6400 SÃ¸nd...  340.000 kr.   \n",
       "\n",
       "           Dato & Type       mÂ² & Kr. / mÂ²  VÃ¦r.  ByggeÃ¥r  \\\n",
       "0  21-01-1994Alm. Salg    162 mÂ² 488 kr/mÂ²      5      1994   \n",
       "1  21-01-1994Alm. Salg  135 mÂ² 7.055 kr/mÂ²      6      1961   \n",
       "2  20-01-1994Alm. Salg   60 mÂ² 5.667 kr/mÂ²      2      1963   \n",
       "\n",
       "   Den procentuelle forskel mellem seneste udbudspris og salgsprisen %  \\\n",
       "0                                                NaN                     \n",
       "1                                                NaN                     \n",
       "2                                                NaN                     \n",
       "\n",
       "      Unnamed: 7  \n",
       "0  Aktuel vÃ¦rdi  \n",
       "1  Aktuel vÃ¦rdi  \n",
       "2  Aktuel vÃ¦rdi  "
      ]
     },
     "execution_count": 5,
     "metadata": {},
     "output_type": "execute_result"
    }
   ],
   "source": [
    "# checking\n",
    "\n",
    "df1.head(3)"
   ]
  },
  {
   "cell_type": "code",
   "execution_count": 6,
   "id": "dd10f84d-0f1b-47a5-a32e-d84cef2a22fd",
   "metadata": {},
   "outputs": [
    {
     "data": {
      "text/plain": [
       "(44450, 8)"
      ]
     },
     "execution_count": 6,
     "metadata": {},
     "output_type": "execute_result"
    }
   ],
   "source": [
    "# checking\n",
    "\n",
    "df1.shape"
   ]
  },
  {
   "cell_type": "code",
   "execution_count": 7,
   "id": "a2c6e7b0-7dd3-4eab-b393-4c653e82d483",
   "metadata": {},
   "outputs": [],
   "source": [
    "# saving to folder\n",
    "\n",
    "df1.to_csv(r'C:\\Users\\ your own path \\DK_housingprices81.csv', index=False)"
   ]
  },
  {
   "cell_type": "code",
   "execution_count": 8,
   "id": "92fe13e8-a914-4903-ad72-18387432e2e2",
   "metadata": {},
   "outputs": [
    {
     "name": "stdout",
     "output_type": "stream",
     "text": [
      "Execution time:  3866.23485827446 secs\n"
     ]
    }
   ],
   "source": [
    "end_time = time.time()\n",
    "print(\"Execution time: \", end_time - start_time,\"secs\")"
   ]
  },
  {
   "cell_type": "code",
   "execution_count": null,
   "id": "c2666170-c5d9-44c2-b97b-c6e26e3fb391",
   "metadata": {},
   "outputs": [],
   "source": []
  }
 ],
 "metadata": {
  "kernelspec": {
   "display_name": "Python 3 (ipykernel)",
   "language": "python",
   "name": "python3"
  },
  "language_info": {
   "codemirror_mode": {
    "name": "ipython",
    "version": 3
   },
   "file_extension": ".py",
   "mimetype": "text/x-python",
   "name": "python",
   "nbconvert_exporter": "python",
   "pygments_lexer": "ipython3",
   "version": "3.8.19"
  }
 },
 "nbformat": 4,
 "nbformat_minor": 5
}
